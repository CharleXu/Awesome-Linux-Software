{
  "nbformat": 4,
  "nbformat_minor": 0,
  "metadata": {
    "colab": {
      "name": "6080 Project V3.ipynb",
      "version": "0.3.2",
      "provenance": [],
      "collapsed_sections": [],
      "include_colab_link": true
    },
    "kernelspec": {
      "name": "python3",
      "display_name": "Python 3"
    }
  },
  "cells": [
    {
      "cell_type": "markdown",
      "metadata": {
        "id": "view-in-github",
        "colab_type": "text"
      },
      "source": [
        "<a href=\"https://colab.research.google.com/github/CharleXu/Awesome-Linux-Software/blob/master/6080_Project_V3.ipynb\" target=\"_parent\"><img src=\"https://colab.research.google.com/assets/colab-badge.svg\" alt=\"Open In Colab\"/></a>"
      ]
    },
    {
      "cell_type": "markdown",
      "metadata": {
        "id": "GpNWsasWBill",
        "colab_type": "text"
      },
      "source": [
        "# Predict the classification\n"
      ]
    },
    {
      "cell_type": "markdown",
      "metadata": {
        "id": "cTckpMvmU1r3",
        "colab_type": "text"
      },
      "source": [
        "## Summary\n",
        "\n",
        "### Objectives:\n",
        "For this project, we want to use the machine learning model to predict the classification to replace the job finished by analyst before.\n"
      ]
    },
    {
      "cell_type": "markdown",
      "metadata": {
        "id": "5AtYYFuAB32K",
        "colab_type": "text"
      },
      "source": [
        "## Content\n"
      ]
    },
    {
      "cell_type": "markdown",
      "metadata": {
        "id": "CR25t-cnB-kV",
        "colab_type": "text"
      },
      "source": [
        "\n",
        "<a href=\"#Part 1: DataExploration\">[Part 1: Data Exploration]\n",
        "  \n",
        "<a href=\"#Part-2:-Feature-Preprocessing\">[Part 2: Feature Preprocessing]\n",
        "  \n",
        "<a href=\"#Part-3:-Model-Training-and-Result-Evaluation\">[Part 3: Model Training and Results Evaluation]\n",
        "\n",
        "<a href=\"#Part-4:-Feature-Selection\">[Part 4: Feature Selection]\n",
        "\n"
      ]
    },
    {
      "cell_type": "markdown",
      "metadata": {
        "id": "pMjih3bZT0UV",
        "colab_type": "text"
      },
      "source": [
        "## Workflow\n",
        "![workflow](https://raw.githubusercontent.com/amueller/ml-workshop-2-of-4/master/slides/images/gridsearch_workflow.png )"
      ]
    },
    {
      "cell_type": "markdown",
      "metadata": {
        "id": "tTbrwxIvCb8v",
        "colab_type": "text"
      },
      "source": [
        "# Part 0: Load the data set"
      ]
    },
    {
      "cell_type": "code",
      "metadata": {
        "id": "GNRYQJ8pCah_",
        "colab_type": "code",
        "colab": {}
      },
      "source": [
        "%matplotlib inline\n",
        "import pandas as pd\n",
        "import matplotlib.pyplot as plt\n",
        "import numpy as np\n",
        "import seaborn as sns\n",
        "pd.set_option('display.float_format', lambda x: '%.3f' % x)\n",
        "\n",
        "# load the alert dataset\n",
        "file_id='1MjqZCt49ttsJBmKPjYZI-1T5BFrF7JXa'\n",
        "link='https://drive.google.com/uc?export=download&id={FILE_ID}'\n",
        "csv_url=link.format(FILE_ID=file_id)\n",
        "my_data = pd.read_csv(csv_url)\n",
        "\n",
        "# load the demographic dataset\n",
        "file_id2 ='1rQwrS3iYEw1W92jlpMvpR-MYQyRuN93m'\n",
        "csv_url2 = link.format(FILE_ID=file_id2)\n",
        "demographic = pd.read_csv(csv_url2)"
      ],
      "execution_count": 0,
      "outputs": []
    },
    {
      "cell_type": "markdown",
      "metadata": {
        "id": "A1RU51ezDEqy",
        "colab_type": "text"
      },
      "source": [
        "data description"
      ]
    },
    {
      "cell_type": "markdown",
      "metadata": {
        "id": "W6lkbBr9DRVg",
        "colab_type": "text"
      },
      "source": [
        "# Part 1: Data Exploration"
      ]
    },
    {
      "cell_type": "markdown",
      "metadata": {
        "id": "rMIv0Ic7DTJv",
        "colab_type": "text"
      },
      "source": [
        "### Part 1.1: Understand the Raw Dataset"
      ]
    },
    {
      "cell_type": "code",
      "metadata": {
        "id": "TMv253UNDMR8",
        "colab_type": "code",
        "colab": {
          "base_uri": "https://localhost:8080/",
          "height": 71
        },
        "outputId": "ad2e6b2e-ae15-4670-cd5b-a6231aba20f0"
      },
      "source": [
        "import warnings\n",
        "warnings.filterwarnings('ignore')\n",
        "\n",
        "import imblearn\n",
        "# will show all the columns\n",
        "pd.set_option('display.max_columns', None)"
      ],
      "execution_count": 2,
      "outputs": [
        {
          "output_type": "stream",
          "text": [
            "/usr/local/lib/python3.6/dist-packages/sklearn/externals/six.py:31: DeprecationWarning: The module is deprecated in version 0.21 and will be removed in version 0.23 since we've dropped support for Python 2.7. Please rely on the official version of six (https://pypi.org/project/six/).\n",
            "  \"(https://pypi.org/project/six/).\", DeprecationWarning)\n"
          ],
          "name": "stderr"
        }
      ]
    },
    {
      "cell_type": "code",
      "metadata": {
        "id": "6kIWoummDoOA",
        "colab_type": "code",
        "outputId": "6cfa89bb-ab94-4050-c17c-5f6441f5f271",
        "colab": {
          "base_uri": "https://localhost:8080/",
          "height": 51
        }
      },
      "source": [
        "print('total number of rows in alert dataset: %d' % my_data.shape[0])\n",
        "print('total number of rows in demographic dataset: %d' % demographic.shape[0])"
      ],
      "execution_count": 3,
      "outputs": [
        {
          "output_type": "stream",
          "text": [
            "total number of rows in alert dataset: 127710\n",
            "total number of rows in demographic dataset: 1374\n"
          ],
          "name": "stdout"
        }
      ]
    },
    {
      "cell_type": "code",
      "metadata": {
        "id": "D-37gzLLxA6z",
        "colab_type": "code",
        "outputId": "c9d8ebdf-90d5-4631-ab6b-a5f3a5652712",
        "colab": {
          "base_uri": "https://localhost:8080/",
          "height": 224
        }
      },
      "source": [
        "my_data.head()"
      ],
      "execution_count": 4,
      "outputs": [
        {
          "output_type": "execute_result",
          "data": {
            "text/html": [
              "<div>\n",
              "<style scoped>\n",
              "    .dataframe tbody tr th:only-of-type {\n",
              "        vertical-align: middle;\n",
              "    }\n",
              "\n",
              "    .dataframe tbody tr th {\n",
              "        vertical-align: top;\n",
              "    }\n",
              "\n",
              "    .dataframe thead th {\n",
              "        text-align: right;\n",
              "    }\n",
              "</style>\n",
              "<table border=\"1\" class=\"dataframe\">\n",
              "  <thead>\n",
              "    <tr style=\"text-align: right;\">\n",
              "      <th></th>\n",
              "      <th>type_name</th>\n",
              "      <th>alert_escalation_date</th>\n",
              "      <th>alert_id_fk</th>\n",
              "      <th>insert_date</th>\n",
              "      <th>score</th>\n",
              "      <th>status</th>\n",
              "      <th>resolution</th>\n",
              "      <th>owner_name</th>\n",
              "      <th>malicious</th>\n",
              "      <th>employee_id</th>\n",
              "      <th>risk_factor</th>\n",
              "      <th>avg_score</th>\n",
              "      <th>classification</th>\n",
              "      <th>HRU</th>\n",
              "      <th>indicators</th>\n",
              "      <th>indicator_pairs</th>\n",
              "      <th>alert_category</th>\n",
              "      <th>alert_type</th>\n",
              "      <th>grouping</th>\n",
              "      <th>indicator_heat_score</th>\n",
              "    </tr>\n",
              "  </thead>\n",
              "  <tbody>\n",
              "    <tr>\n",
              "      <th>0</th>\n",
              "      <td>TP</td>\n",
              "      <td>3/26/2018 20:18</td>\n",
              "      <td>319529787</td>\n",
              "      <td>9/29/2017</td>\n",
              "      <td>180</td>\n",
              "      <td>cleared</td>\n",
              "      <td>closed</td>\n",
              "      <td>Senior_Analyst_1</td>\n",
              "      <td>yes</td>\n",
              "      <td>2313834724</td>\n",
              "      <td>1.800</td>\n",
              "      <td>100.000</td>\n",
              "      <td>TP/DE</td>\n",
              "      <td>None</td>\n",
              "      <td>App_1_Box_Aged_Files</td>\n",
              "      <td>App_1_Box_Aged_Files</td>\n",
              "      <td>Heat</td>\n",
              "      <td>Daily_Heat</td>\n",
              "      <td>App_1</td>\n",
              "      <td>3.000</td>\n",
              "    </tr>\n",
              "    <tr>\n",
              "      <th>1</th>\n",
              "      <td>TP</td>\n",
              "      <td>3/26/2018 20:18</td>\n",
              "      <td>1633242574</td>\n",
              "      <td>9/29/2017</td>\n",
              "      <td>172</td>\n",
              "      <td>cleared</td>\n",
              "      <td>closed</td>\n",
              "      <td>Senior_Analyst_1</td>\n",
              "      <td>yes</td>\n",
              "      <td>13152813815</td>\n",
              "      <td>1.720</td>\n",
              "      <td>100.000</td>\n",
              "      <td>TP/DE</td>\n",
              "      <td>HRU11</td>\n",
              "      <td>App_1_Box_Aged_Files</td>\n",
              "      <td>App_1_Box_Aged_Files/App_4_Request_Volume_30da...</td>\n",
              "      <td>Heat</td>\n",
              "      <td>Daily_Heat</td>\n",
              "      <td>App_1</td>\n",
              "      <td>3.000</td>\n",
              "    </tr>\n",
              "    <tr>\n",
              "      <th>2</th>\n",
              "      <td>TP</td>\n",
              "      <td>3/26/2018 20:18</td>\n",
              "      <td>1633242574</td>\n",
              "      <td>9/29/2017</td>\n",
              "      <td>172</td>\n",
              "      <td>cleared</td>\n",
              "      <td>closed</td>\n",
              "      <td>Senior_Analyst_1</td>\n",
              "      <td>yes</td>\n",
              "      <td>13152813815</td>\n",
              "      <td>1.720</td>\n",
              "      <td>100.000</td>\n",
              "      <td>TP/DE</td>\n",
              "      <td>HRU11</td>\n",
              "      <td>App_4_Request_Volume_30day</td>\n",
              "      <td>App_1_Box_Aged_Files/App_4_Request_Volume_30da...</td>\n",
              "      <td>Heat</td>\n",
              "      <td>Daily_Heat</td>\n",
              "      <td>App_4</td>\n",
              "      <td>4.000</td>\n",
              "    </tr>\n",
              "    <tr>\n",
              "      <th>3</th>\n",
              "      <td>TP</td>\n",
              "      <td>3/26/2018 20:18</td>\n",
              "      <td>1633242574</td>\n",
              "      <td>9/29/2017</td>\n",
              "      <td>172</td>\n",
              "      <td>cleared</td>\n",
              "      <td>closed</td>\n",
              "      <td>Senior_Analyst_1</td>\n",
              "      <td>yes</td>\n",
              "      <td>13152813815</td>\n",
              "      <td>1.720</td>\n",
              "      <td>100.000</td>\n",
              "      <td>TP/DE</td>\n",
              "      <td>HRU11</td>\n",
              "      <td>App_4_Request_Volume_90day</td>\n",
              "      <td>App_1_Box_Aged_Files/App_4_Request_Volume_30da...</td>\n",
              "      <td>Heat</td>\n",
              "      <td>Daily_Heat</td>\n",
              "      <td>App_4</td>\n",
              "      <td>3.000</td>\n",
              "    </tr>\n",
              "    <tr>\n",
              "      <th>4</th>\n",
              "      <td>TP</td>\n",
              "      <td>3/26/2018 20:18</td>\n",
              "      <td>1633242574</td>\n",
              "      <td>9/29/2017</td>\n",
              "      <td>172</td>\n",
              "      <td>cleared</td>\n",
              "      <td>closed</td>\n",
              "      <td>Senior_Analyst_1</td>\n",
              "      <td>yes</td>\n",
              "      <td>13152813815</td>\n",
              "      <td>1.720</td>\n",
              "      <td>100.000</td>\n",
              "      <td>TP/DE</td>\n",
              "      <td>HRU11</td>\n",
              "      <td>App_14_Threshold_1</td>\n",
              "      <td>App_1_Box_Aged_Files/App_4_Request_Volume_30da...</td>\n",
              "      <td>Heat</td>\n",
              "      <td>Daily_Heat</td>\n",
              "      <td>App_14</td>\n",
              "      <td>3.000</td>\n",
              "    </tr>\n",
              "  </tbody>\n",
              "</table>\n",
              "</div>"
            ],
            "text/plain": [
              "  type_name alert_escalation_date  alert_id_fk insert_date  score   status  \\\n",
              "0        TP       3/26/2018 20:18    319529787   9/29/2017    180  cleared   \n",
              "1        TP       3/26/2018 20:18   1633242574   9/29/2017    172  cleared   \n",
              "2        TP       3/26/2018 20:18   1633242574   9/29/2017    172  cleared   \n",
              "3        TP       3/26/2018 20:18   1633242574   9/29/2017    172  cleared   \n",
              "4        TP       3/26/2018 20:18   1633242574   9/29/2017    172  cleared   \n",
              "\n",
              "  resolution        owner_name malicious  employee_id  risk_factor  avg_score  \\\n",
              "0     closed  Senior_Analyst_1       yes   2313834724        1.800    100.000   \n",
              "1     closed  Senior_Analyst_1       yes  13152813815        1.720    100.000   \n",
              "2     closed  Senior_Analyst_1       yes  13152813815        1.720    100.000   \n",
              "3     closed  Senior_Analyst_1       yes  13152813815        1.720    100.000   \n",
              "4     closed  Senior_Analyst_1       yes  13152813815        1.720    100.000   \n",
              "\n",
              "  classification    HRU                  indicators  \\\n",
              "0          TP/DE   None        App_1_Box_Aged_Files   \n",
              "1          TP/DE  HRU11        App_1_Box_Aged_Files   \n",
              "2          TP/DE  HRU11  App_4_Request_Volume_30day   \n",
              "3          TP/DE  HRU11  App_4_Request_Volume_90day   \n",
              "4          TP/DE  HRU11          App_14_Threshold_1   \n",
              "\n",
              "                                     indicator_pairs alert_category  \\\n",
              "0                               App_1_Box_Aged_Files           Heat   \n",
              "1  App_1_Box_Aged_Files/App_4_Request_Volume_30da...           Heat   \n",
              "2  App_1_Box_Aged_Files/App_4_Request_Volume_30da...           Heat   \n",
              "3  App_1_Box_Aged_Files/App_4_Request_Volume_30da...           Heat   \n",
              "4  App_1_Box_Aged_Files/App_4_Request_Volume_30da...           Heat   \n",
              "\n",
              "   alert_type grouping  indicator_heat_score  \n",
              "0  Daily_Heat    App_1                 3.000  \n",
              "1  Daily_Heat    App_1                 3.000  \n",
              "2  Daily_Heat    App_4                 4.000  \n",
              "3  Daily_Heat    App_4                 3.000  \n",
              "4  Daily_Heat   App_14                 3.000  "
            ]
          },
          "metadata": {
            "tags": []
          },
          "execution_count": 4
        }
      ]
    },
    {
      "cell_type": "code",
      "metadata": {
        "id": "teGH1l0pdMWB",
        "colab_type": "code",
        "colab": {
          "base_uri": "https://localhost:8080/",
          "height": 513
        },
        "outputId": "7c3b4ba2-87b3-4f26-d4a7-6647979b5f02"
      },
      "source": [
        "demographic.head()"
      ],
      "execution_count": 5,
      "outputs": [
        {
          "output_type": "execute_result",
          "data": {
            "text/html": [
              "<div>\n",
              "<style scoped>\n",
              "    .dataframe tbody tr th:only-of-type {\n",
              "        vertical-align: middle;\n",
              "    }\n",
              "\n",
              "    .dataframe tbody tr th {\n",
              "        vertical-align: top;\n",
              "    }\n",
              "\n",
              "    .dataframe thead th {\n",
              "        text-align: right;\n",
              "    }\n",
              "</style>\n",
              "<table border=\"1\" class=\"dataframe\">\n",
              "  <thead>\n",
              "    <tr style=\"text-align: right;\">\n",
              "      <th></th>\n",
              "      <th>employee_id</th>\n",
              "      <th>Person_Type</th>\n",
              "      <th>GE_Hire_Date</th>\n",
              "      <th>State_Name</th>\n",
              "      <th>Country_Name</th>\n",
              "      <th>COUNTRY_CODE</th>\n",
              "      <th>Business_Segment</th>\n",
              "      <th>Sub_Business</th>\n",
              "      <th>Function</th>\n",
              "      <th>Function_Group</th>\n",
              "      <th>Org_Name</th>\n",
              "      <th>Career_Band</th>\n",
              "      <th>JOB_TITLE</th>\n",
              "      <th>JOB_TYPE</th>\n",
              "    </tr>\n",
              "  </thead>\n",
              "  <tbody>\n",
              "    <tr>\n",
              "      <th>0</th>\n",
              "      <td>7296648307</td>\n",
              "      <td>Employee</td>\n",
              "      <td>6/27/2010 0:00</td>\n",
              "      <td>Dubai</td>\n",
              "      <td>United Arab Emirates</td>\n",
              "      <td>AE</td>\n",
              "      <td>Aviation Commercial Engines</td>\n",
              "      <td>AVI CEO-Customer &amp; Product Support</td>\n",
              "      <td>Engineering/Technology</td>\n",
              "      <td>Production</td>\n",
              "      <td>AVI CEO-CPS-Commercial Field Service</td>\n",
              "      <td>SPB</td>\n",
              "      <td>No_Data</td>\n",
              "      <td>Sr Engineering Manager 2 - Fleet Management</td>\n",
              "    </tr>\n",
              "    <tr>\n",
              "      <th>1</th>\n",
              "      <td>9526104533</td>\n",
              "      <td>Ex-employee</td>\n",
              "      <td>11/8/2010 0:00</td>\n",
              "      <td>Karnataka</td>\n",
              "      <td>India</td>\n",
              "      <td>IN</td>\n",
              "      <td>Aviation Digital</td>\n",
              "      <td>AVI DIG-Digital Service Solutions</td>\n",
              "      <td>Digital Technology</td>\n",
              "      <td>Enabling</td>\n",
              "      <td>AVI DIG-DSS-India</td>\n",
              "      <td>SPB</td>\n",
              "      <td>No_Data</td>\n",
              "      <td>Sr Staff Data Scientist</td>\n",
              "    </tr>\n",
              "    <tr>\n",
              "      <th>2</th>\n",
              "      <td>3655799847</td>\n",
              "      <td>Employee</td>\n",
              "      <td>8/27/2007 0:00</td>\n",
              "      <td>Masovian</td>\n",
              "      <td>Poland</td>\n",
              "      <td>PL</td>\n",
              "      <td>Aviation Engineering</td>\n",
              "      <td>AVI ENG-Engineering Design Center Poland</td>\n",
              "      <td>Engineering/Technology</td>\n",
              "      <td>Production</td>\n",
              "      <td>AVI ENG-EDC-Engineering Material Systems</td>\n",
              "      <td>SPB</td>\n",
              "      <td>No_Data</td>\n",
              "      <td>Sr Scientist CTH 3 - Materials Science and Eng...</td>\n",
              "    </tr>\n",
              "    <tr>\n",
              "      <th>3</th>\n",
              "      <td>9672758310</td>\n",
              "      <td>Employee</td>\n",
              "      <td>4/22/1996 0:00</td>\n",
              "      <td>Ohio</td>\n",
              "      <td>United States</td>\n",
              "      <td>US</td>\n",
              "      <td>Aviation Engineering</td>\n",
              "      <td>AVI ENG-Engineering Material Systems</td>\n",
              "      <td>Engineering/Technology</td>\n",
              "      <td>Production</td>\n",
              "      <td>AVI ENG-Engineering Material Systems</td>\n",
              "      <td>SPB</td>\n",
              "      <td>No_Data</td>\n",
              "      <td>Sr Scientist 1 - Materials Science and Enginee...</td>\n",
              "    </tr>\n",
              "    <tr>\n",
              "      <th>4</th>\n",
              "      <td>13558590425</td>\n",
              "      <td>Employee</td>\n",
              "      <td>2/3/1997 0:00</td>\n",
              "      <td>Ohio</td>\n",
              "      <td>United States</td>\n",
              "      <td>US</td>\n",
              "      <td>Aviation Engineering</td>\n",
              "      <td>AVI ENG-Chief Engineer</td>\n",
              "      <td>Engineering/Technology</td>\n",
              "      <td>Production</td>\n",
              "      <td>AVI ENG-CE-General Electric Aviation Engines</td>\n",
              "      <td>SPB</td>\n",
              "      <td>No_Data</td>\n",
              "      <td>Sr Engineer CTH 0 - Chief Engineering</td>\n",
              "    </tr>\n",
              "  </tbody>\n",
              "</table>\n",
              "</div>"
            ],
            "text/plain": [
              "   employee_id  Person_Type    GE_Hire_Date State_Name          Country_Name  \\\n",
              "0   7296648307     Employee  6/27/2010 0:00      Dubai  United Arab Emirates   \n",
              "1   9526104533  Ex-employee  11/8/2010 0:00  Karnataka                 India   \n",
              "2   3655799847     Employee  8/27/2007 0:00   Masovian                Poland   \n",
              "3   9672758310     Employee  4/22/1996 0:00       Ohio         United States   \n",
              "4  13558590425     Employee   2/3/1997 0:00       Ohio         United States   \n",
              "\n",
              "  COUNTRY_CODE             Business_Segment  \\\n",
              "0           AE  Aviation Commercial Engines   \n",
              "1           IN             Aviation Digital   \n",
              "2           PL         Aviation Engineering   \n",
              "3           US         Aviation Engineering   \n",
              "4           US         Aviation Engineering   \n",
              "\n",
              "                               Sub_Business                Function  \\\n",
              "0        AVI CEO-Customer & Product Support  Engineering/Technology   \n",
              "1         AVI DIG-Digital Service Solutions      Digital Technology   \n",
              "2  AVI ENG-Engineering Design Center Poland  Engineering/Technology   \n",
              "3      AVI ENG-Engineering Material Systems  Engineering/Technology   \n",
              "4                    AVI ENG-Chief Engineer  Engineering/Technology   \n",
              "\n",
              "  Function_Group                                      Org_Name Career_Band  \\\n",
              "0     Production          AVI CEO-CPS-Commercial Field Service         SPB   \n",
              "1       Enabling                             AVI DIG-DSS-India         SPB   \n",
              "2     Production      AVI ENG-EDC-Engineering Material Systems         SPB   \n",
              "3     Production          AVI ENG-Engineering Material Systems         SPB   \n",
              "4     Production  AVI ENG-CE-General Electric Aviation Engines         SPB   \n",
              "\n",
              "  JOB_TITLE                                           JOB_TYPE  \n",
              "0   No_Data        Sr Engineering Manager 2 - Fleet Management  \n",
              "1   No_Data                            Sr Staff Data Scientist  \n",
              "2   No_Data  Sr Scientist CTH 3 - Materials Science and Eng...  \n",
              "3   No_Data  Sr Scientist 1 - Materials Science and Enginee...  \n",
              "4   No_Data              Sr Engineer CTH 0 - Chief Engineering  "
            ]
          },
          "metadata": {
            "tags": []
          },
          "execution_count": 5
        }
      ]
    },
    {
      "cell_type": "markdown",
      "metadata": {
        "id": "RB9E7oDugssX",
        "colab_type": "text"
      },
      "source": [
        "#### drop the meaningless columns"
      ]
    },
    {
      "cell_type": "code",
      "metadata": {
        "id": "iZiiLFcpfStH",
        "colab_type": "code",
        "colab": {
          "base_uri": "https://localhost:8080/",
          "height": 51
        },
        "outputId": "4b00cec3-3fa7-4699-9613-085d79744245"
      },
      "source": [
        "# Drop the features that assigned by data scientist\n",
        "df_indicator = my_data['indicators'].copy()\n",
        "assign_ds = ['type_name', 'indicators', 'alert_category', 'grouping','indicator_heat_score']\n",
        "my_data = my_data.drop(assign_ds, axis=1)\n",
        "print('Alert dataset:', '\\n', \"Dataset size: %d  number of features: %d  number of classes: %d\"\n",
        "      % (my_data.shape[0], my_data.shape[1], len(np.unique(my_data['classification']))))"
      ],
      "execution_count": 6,
      "outputs": [
        {
          "output_type": "stream",
          "text": [
            "Alert dataset: \n",
            " Dataset size: 127710  number of features: 15  number of classes: 4\n"
          ],
          "name": "stdout"
        }
      ]
    },
    {
      "cell_type": "code",
      "metadata": {
        "id": "PzeIIGzng0Tp",
        "colab_type": "code",
        "colab": {
          "base_uri": "https://localhost:8080/",
          "height": 51
        },
        "outputId": "334b616d-00b2-449f-d934-cd67f40efefa"
      },
      "source": [
        "no_mean = ['Person_Type', 'GE_Hire_Date',\n",
        "       'Country_Name', 'Sub_Business','Function', 'Org_Name',  \n",
        "       'JOB_TITLE','JOB_TYPE']\n",
        "demographic = demographic.drop(no_mean, axis=1)\n",
        "print('Demographic dataset:', '\\n',\"Dataset size: %d  number of features: %d\"\n",
        "      % (demographic.shape[0], demographic.shape[1]))"
      ],
      "execution_count": 7,
      "outputs": [
        {
          "output_type": "stream",
          "text": [
            "Demographic dataset: \n",
            " Dataset size: 1374  number of features: 6\n"
          ],
          "name": "stdout"
        }
      ]
    },
    {
      "cell_type": "code",
      "metadata": {
        "id": "hPNCVX7EHV1i",
        "colab_type": "code",
        "outputId": "cb5bf795-cce0-4105-ebf3-308f29c51284",
        "colab": {
          "base_uri": "https://localhost:8080/",
          "height": 51
        }
      },
      "source": [
        "# Check the duplicated data\n",
        "my_data_dup = my_data[my_data.duplicated(keep='first')]\n",
        "print('The number of duplicated data is: %d' % my_data_dup.shape[0])\n",
        "demographic_dup = demographic[demographic.duplicated(keep='first')]\n",
        "print('The number of duplicated data in demographic is: %d' % demographic_dup.shape[0])"
      ],
      "execution_count": 8,
      "outputs": [
        {
          "output_type": "stream",
          "text": [
            "The number of duplicated data is: 27239\n",
            "The number of duplicated data in demographic is: 0\n"
          ],
          "name": "stdout"
        }
      ]
    },
    {
      "cell_type": "code",
      "metadata": {
        "id": "pFlQGowuFQoC",
        "colab_type": "code",
        "outputId": "3e2bb4d6-7e1f-4881-e371-29c1418e534b",
        "colab": {
          "base_uri": "https://localhost:8080/",
          "height": 51
        }
      },
      "source": [
        "# Remove the duplicated data\n",
        "my_data = my_data.drop_duplicates()\n",
        "print('All duplicated data have been dropped')\n",
        "print('The total number of rows: %d' % my_data.shape[0])"
      ],
      "execution_count": 9,
      "outputs": [
        {
          "output_type": "stream",
          "text": [
            "All duplicated data have been dropped\n",
            "The total number of rows: 100471\n"
          ],
          "name": "stdout"
        }
      ]
    },
    {
      "cell_type": "code",
      "metadata": {
        "id": "ESst14lfxHAw",
        "colab_type": "code",
        "outputId": "44eff6c1-20e1-47fe-a5b3-db7f11b29f61",
        "colab": {
          "base_uri": "https://localhost:8080/",
          "height": 275
        }
      },
      "source": [
        "new_data = pd.merge(my_data, demographic, on = 'employee_id')\n",
        "new_data.head()"
      ],
      "execution_count": 10,
      "outputs": [
        {
          "output_type": "execute_result",
          "data": {
            "text/html": [
              "<div>\n",
              "<style scoped>\n",
              "    .dataframe tbody tr th:only-of-type {\n",
              "        vertical-align: middle;\n",
              "    }\n",
              "\n",
              "    .dataframe tbody tr th {\n",
              "        vertical-align: top;\n",
              "    }\n",
              "\n",
              "    .dataframe thead th {\n",
              "        text-align: right;\n",
              "    }\n",
              "</style>\n",
              "<table border=\"1\" class=\"dataframe\">\n",
              "  <thead>\n",
              "    <tr style=\"text-align: right;\">\n",
              "      <th></th>\n",
              "      <th>alert_escalation_date</th>\n",
              "      <th>alert_id_fk</th>\n",
              "      <th>insert_date</th>\n",
              "      <th>score</th>\n",
              "      <th>status</th>\n",
              "      <th>resolution</th>\n",
              "      <th>owner_name</th>\n",
              "      <th>malicious</th>\n",
              "      <th>employee_id</th>\n",
              "      <th>risk_factor</th>\n",
              "      <th>avg_score</th>\n",
              "      <th>classification</th>\n",
              "      <th>HRU</th>\n",
              "      <th>indicator_pairs</th>\n",
              "      <th>alert_type</th>\n",
              "      <th>State_Name</th>\n",
              "      <th>COUNTRY_CODE</th>\n",
              "      <th>Business_Segment</th>\n",
              "      <th>Function_Group</th>\n",
              "      <th>Career_Band</th>\n",
              "    </tr>\n",
              "  </thead>\n",
              "  <tbody>\n",
              "    <tr>\n",
              "      <th>0</th>\n",
              "      <td>3/26/2018 20:18</td>\n",
              "      <td>319529787</td>\n",
              "      <td>9/29/2017</td>\n",
              "      <td>180</td>\n",
              "      <td>cleared</td>\n",
              "      <td>closed</td>\n",
              "      <td>Senior_Analyst_1</td>\n",
              "      <td>yes</td>\n",
              "      <td>2313834724</td>\n",
              "      <td>1.800</td>\n",
              "      <td>100.000</td>\n",
              "      <td>TP/DE</td>\n",
              "      <td>None</td>\n",
              "      <td>App_1_Box_Aged_Files</td>\n",
              "      <td>Daily_Heat</td>\n",
              "      <td>Ohio</td>\n",
              "      <td>US</td>\n",
              "      <td>Aviation Supply Chain</td>\n",
              "      <td>Production</td>\n",
              "      <td>SPB</td>\n",
              "    </tr>\n",
              "    <tr>\n",
              "      <th>1</th>\n",
              "      <td>3/26/2018 20:18</td>\n",
              "      <td>1393818439</td>\n",
              "      <td>9/29/2017</td>\n",
              "      <td>195</td>\n",
              "      <td>cleared</td>\n",
              "      <td>closed</td>\n",
              "      <td>Senior_Analyst_1</td>\n",
              "      <td>yes</td>\n",
              "      <td>2313834724</td>\n",
              "      <td>1.950</td>\n",
              "      <td>100.000</td>\n",
              "      <td>TP/DE</td>\n",
              "      <td>None</td>\n",
              "      <td>App_1_Box_Aged_Files</td>\n",
              "      <td>Daily_Heat</td>\n",
              "      <td>Ohio</td>\n",
              "      <td>US</td>\n",
              "      <td>Aviation Supply Chain</td>\n",
              "      <td>Production</td>\n",
              "      <td>SPB</td>\n",
              "    </tr>\n",
              "    <tr>\n",
              "      <th>2</th>\n",
              "      <td>3/26/2018 20:18</td>\n",
              "      <td>625554667</td>\n",
              "      <td>9/29/2017</td>\n",
              "      <td>174</td>\n",
              "      <td>cleared</td>\n",
              "      <td>closed</td>\n",
              "      <td>Senior_Analyst_1</td>\n",
              "      <td>yes</td>\n",
              "      <td>2313834724</td>\n",
              "      <td>1.740</td>\n",
              "      <td>100.000</td>\n",
              "      <td>TP/DE</td>\n",
              "      <td>None</td>\n",
              "      <td>App_1_Box_Aged_Files</td>\n",
              "      <td>Daily_Heat</td>\n",
              "      <td>Ohio</td>\n",
              "      <td>US</td>\n",
              "      <td>Aviation Supply Chain</td>\n",
              "      <td>Production</td>\n",
              "      <td>SPB</td>\n",
              "    </tr>\n",
              "    <tr>\n",
              "      <th>3</th>\n",
              "      <td>3/26/2018 20:18</td>\n",
              "      <td>1633242574</td>\n",
              "      <td>9/29/2017</td>\n",
              "      <td>172</td>\n",
              "      <td>cleared</td>\n",
              "      <td>closed</td>\n",
              "      <td>Senior_Analyst_1</td>\n",
              "      <td>yes</td>\n",
              "      <td>13152813815</td>\n",
              "      <td>1.720</td>\n",
              "      <td>100.000</td>\n",
              "      <td>TP/DE</td>\n",
              "      <td>HRU11</td>\n",
              "      <td>App_1_Box_Aged_Files/App_4_Request_Volume_30da...</td>\n",
              "      <td>Daily_Heat</td>\n",
              "      <td>Ohio</td>\n",
              "      <td>US</td>\n",
              "      <td>Aviation Engineering</td>\n",
              "      <td>Production</td>\n",
              "      <td>LPB</td>\n",
              "    </tr>\n",
              "    <tr>\n",
              "      <th>4</th>\n",
              "      <td>3/26/2018 20:21</td>\n",
              "      <td>1025069746</td>\n",
              "      <td>10/19/2017</td>\n",
              "      <td>256</td>\n",
              "      <td>cleared</td>\n",
              "      <td>closed</td>\n",
              "      <td>Senior_Analyst_1</td>\n",
              "      <td>yes</td>\n",
              "      <td>13152813815</td>\n",
              "      <td>2.560</td>\n",
              "      <td>100.000</td>\n",
              "      <td>TP/DE</td>\n",
              "      <td>HRU11</td>\n",
              "      <td>App_1_Box_Aged_Files/App_4_Request_Volume_30da...</td>\n",
              "      <td>Daily_Heat</td>\n",
              "      <td>Ohio</td>\n",
              "      <td>US</td>\n",
              "      <td>Aviation Engineering</td>\n",
              "      <td>Production</td>\n",
              "      <td>LPB</td>\n",
              "    </tr>\n",
              "  </tbody>\n",
              "</table>\n",
              "</div>"
            ],
            "text/plain": [
              "  alert_escalation_date  alert_id_fk insert_date  score   status resolution  \\\n",
              "0       3/26/2018 20:18    319529787   9/29/2017    180  cleared     closed   \n",
              "1       3/26/2018 20:18   1393818439   9/29/2017    195  cleared     closed   \n",
              "2       3/26/2018 20:18    625554667   9/29/2017    174  cleared     closed   \n",
              "3       3/26/2018 20:18   1633242574   9/29/2017    172  cleared     closed   \n",
              "4       3/26/2018 20:21   1025069746  10/19/2017    256  cleared     closed   \n",
              "\n",
              "         owner_name malicious  employee_id  risk_factor  avg_score  \\\n",
              "0  Senior_Analyst_1       yes   2313834724        1.800    100.000   \n",
              "1  Senior_Analyst_1       yes   2313834724        1.950    100.000   \n",
              "2  Senior_Analyst_1       yes   2313834724        1.740    100.000   \n",
              "3  Senior_Analyst_1       yes  13152813815        1.720    100.000   \n",
              "4  Senior_Analyst_1       yes  13152813815        2.560    100.000   \n",
              "\n",
              "  classification    HRU                                    indicator_pairs  \\\n",
              "0          TP/DE   None                               App_1_Box_Aged_Files   \n",
              "1          TP/DE   None                               App_1_Box_Aged_Files   \n",
              "2          TP/DE   None                               App_1_Box_Aged_Files   \n",
              "3          TP/DE  HRU11  App_1_Box_Aged_Files/App_4_Request_Volume_30da...   \n",
              "4          TP/DE  HRU11  App_1_Box_Aged_Files/App_4_Request_Volume_30da...   \n",
              "\n",
              "   alert_type State_Name COUNTRY_CODE       Business_Segment Function_Group  \\\n",
              "0  Daily_Heat       Ohio           US  Aviation Supply Chain     Production   \n",
              "1  Daily_Heat       Ohio           US  Aviation Supply Chain     Production   \n",
              "2  Daily_Heat       Ohio           US  Aviation Supply Chain     Production   \n",
              "3  Daily_Heat       Ohio           US   Aviation Engineering     Production   \n",
              "4  Daily_Heat       Ohio           US   Aviation Engineering     Production   \n",
              "\n",
              "  Career_Band  \n",
              "0         SPB  \n",
              "1         SPB  \n",
              "2         SPB  \n",
              "3         LPB  \n",
              "4         LPB  "
            ]
          },
          "metadata": {
            "tags": []
          },
          "execution_count": 10
        }
      ]
    },
    {
      "cell_type": "markdown",
      "metadata": {
        "id": "sJqzONs-D7co",
        "colab_type": "text"
      },
      "source": [
        "### Part 1.2: Data cleaning"
      ]
    },
    {
      "cell_type": "markdown",
      "metadata": {
        "id": "eQwAsQcsEMM0",
        "colab_type": "text"
      },
      "source": [
        "Find the missing value"
      ]
    },
    {
      "cell_type": "code",
      "metadata": {
        "id": "lUe3XnHjD4IN",
        "colab_type": "code",
        "outputId": "8d149aac-2ac2-4e4f-ba48-ea1372877e41",
        "colab": {
          "base_uri": "https://localhost:8080/",
          "height": 68
        }
      },
      "source": [
        "new_data.isna().sum()[new_data.isna().sum() != 0]"
      ],
      "execution_count": 11,
      "outputs": [
        {
          "output_type": "execute_result",
          "data": {
            "text/plain": [
              "risk_factor    83306\n",
              "avg_score      83306\n",
              "dtype: int64"
            ]
          },
          "metadata": {
            "tags": []
          },
          "execution_count": 11
        }
      ]
    },
    {
      "cell_type": "code",
      "metadata": {
        "id": "QIKfgeYXyGjq",
        "colab_type": "code",
        "outputId": "cceb2ddd-0e73-4c27-d11d-ddb7d3767da4",
        "colab": {
          "base_uri": "https://localhost:8080/",
          "height": 102
        }
      },
      "source": [
        "new_data.alert_type.value_counts()"
      ],
      "execution_count": 12,
      "outputs": [
        {
          "output_type": "execute_result",
          "data": {
            "text/plain": [
              "Atomic          83306\n",
              "Daily_Heat       6067\n",
              "Monthly_Heat     5544\n",
              "Weekly_Heat      4546\n",
              "Name: alert_type, dtype: int64"
            ]
          },
          "metadata": {
            "tags": []
          },
          "execution_count": 12
        }
      ]
    },
    {
      "cell_type": "markdown",
      "metadata": {
        "id": "GNID-HahFSJT",
        "colab_type": "text"
      },
      "source": [
        "As looking through the dataset, the avg_score and risk_factor will be NA for atomic alerts (alert_type), so we can ues minimal value to fill those missing values"
      ]
    },
    {
      "cell_type": "code",
      "metadata": {
        "id": "uopb54TTykIL",
        "colab_type": "code",
        "outputId": "e6a83e5f-4301-454d-bb7c-5cfe246e93a4",
        "colab": {
          "base_uri": "https://localhost:8080/",
          "height": 357
        }
      },
      "source": [
        "temp = my_data.loc[my_data['alert_type']!='Atomic']\n",
        "for i in ['risk_factor', 'avg_score']:\n",
        "  print(temp[i].describe(), '\\n')"
      ],
      "execution_count": 13,
      "outputs": [
        {
          "output_type": "stream",
          "text": [
            "count   16914.000\n",
            "mean        9.990\n",
            "std        12.473\n",
            "min         1.700\n",
            "25%         2.927\n",
            "50%         7.931\n",
            "75%        11.567\n",
            "max       629.645\n",
            "Name: risk_factor, dtype: float64 \n",
            "\n",
            "count    16914.000\n",
            "mean       407.927\n",
            "std       1777.487\n",
            "min         90.000\n",
            "25%        100.000\n",
            "50%        110.000\n",
            "75%        245.000\n",
            "max     113727.000\n",
            "Name: avg_score, dtype: float64 \n",
            "\n"
          ],
          "name": "stdout"
        }
      ]
    },
    {
      "cell_type": "code",
      "metadata": {
        "id": "eVd1eUGc3aET",
        "colab_type": "code",
        "colab": {}
      },
      "source": [
        "#fill the risk_factor and avg_score with min of each feature\n",
        "new_data[['risk_factor']] = new_data[['risk_factor']].fillna(1.7)\n",
        "new_data[['avg_score']] = new_data[['avg_score']].fillna(90)"
      ],
      "execution_count": 0,
      "outputs": []
    },
    {
      "cell_type": "code",
      "metadata": {
        "id": "DxSHZKLiB8qy",
        "colab_type": "code",
        "outputId": "7f726f87-d3b1-4a5c-aa2f-9d1bff075249",
        "colab": {
          "base_uri": "https://localhost:8080/",
          "height": 51
        }
      },
      "source": [
        "print('Dataset:', '\\n', \"Dataset size: %d  number of features: %d  number of classes: %d\"\n",
        "      % (new_data.shape[0], new_data.shape[1], len(np.unique(new_data['classification']))))"
      ],
      "execution_count": 15,
      "outputs": [
        {
          "output_type": "stream",
          "text": [
            "Dataset: \n",
            " Dataset size: 99463  number of features: 20  number of classes: 4\n"
          ],
          "name": "stdout"
        }
      ]
    },
    {
      "cell_type": "markdown",
      "metadata": {
        "id": "1cPvOlyzMvPT",
        "colab_type": "text"
      },
      "source": [
        "### Part 1.3:  Understand the features"
      ]
    },
    {
      "cell_type": "markdown",
      "metadata": {
        "id": "5LJXbSNafvwv",
        "colab_type": "text"
      },
      "source": [
        "#### Understand the numerical features"
      ]
    },
    {
      "cell_type": "code",
      "metadata": {
        "id": "mzxoBQ_qfpgn",
        "colab_type": "code",
        "outputId": "cab5d3e4-56ed-4fe1-b8a7-1c5b8f3e5d4b",
        "colab": {
          "base_uri": "https://localhost:8080/",
          "height": 204
        }
      },
      "source": [
        "# Understand the numerical feature\n",
        "print(my_data[['score', 'risk_factor', 'avg_score']].describe(percentiles = [.1, .25, .5, .75, .95]))"
      ],
      "execution_count": 16,
      "outputs": [
        {
          "output_type": "stream",
          "text": [
            "            score  risk_factor  avg_score\n",
            "count  100471.000    16915.000  16915.000\n",
            "mean      698.643        9.990    407.903\n",
            "std      8622.462       12.473   1777.437\n",
            "min         3.000        1.700      5.000\n",
            "10%        10.000        2.000     90.000\n",
            "25%        10.000        2.926    100.000\n",
            "50%        10.000        7.930    110.000\n",
            "75%        10.000       11.567    245.000\n",
            "95%      1890.000       29.762   1178.000\n",
            "max   1147968.000      629.645 113727.000\n"
          ],
          "name": "stdout"
        }
      ]
    },
    {
      "cell_type": "code",
      "metadata": {
        "id": "mMREC-CHL2hS",
        "colab_type": "code",
        "outputId": "d96c4be0-e5f8-4889-8a1c-5a351c12b005",
        "colab": {
          "base_uri": "https://localhost:8080/",
          "height": 729
        }
      },
      "source": [
        "# check the feature distribution\n",
        "fig, axes = plt.subplots(3,2,figsize=(10, 10))\n",
        "\n",
        "# Score\n",
        "axes[0, 0].hist(new_data['score'].values, bins=range(0, 1200000, 10000), alpha=0.5, color='r', label='Score', normed=True)\n",
        "axes[0, 0].legend(loc='upper right')\n",
        "axes[0, 0].set_title('Historgrams of score')\n",
        "axes[0, 0].set_xlabel('Score')\n",
        "axes[0, 0].set_ylabel('density')\n",
        "\n",
        "#log scale of score to the large variation\n",
        "axes[0, 1].hist(new_data['score'].values, log=True, bins=range(0, 1200000, 10000), alpha=0.5, color='b', label='log(Score)', normed=True)\n",
        "axes[0, 1].legend(loc='upper right')\n",
        "axes[0, 1].set_title('Historgrams of score')\n",
        "axes[0, 1].set_xlabel('Score')\n",
        "axes[0, 1].set_ylabel('density')\n",
        "\n",
        "\n",
        "# Risk_factor\n",
        "axes[1, 0].hist(new_data['risk_factor'].values, bins=range(0, 700, 100), alpha=0.5, color='r', label='Score', normed=True)\n",
        "axes[1, 0].legend(loc='upper right')\n",
        "axes[1, 0].set_title('Historgrams of risk_factor')\n",
        "axes[1, 0].set_xlabel('risk_factor')\n",
        "axes[1, 0].set_ylabel('density')\n",
        "\n",
        "#log scale of risk_factor to the large variation\n",
        "axes[1, 1].hist(new_data['risk_factor'].values, log=True, bins=range(0, 700, 100), alpha=0.5, color='b', label='log(Score)', normed=True)\n",
        "axes[1, 1].legend(loc='upper right')\n",
        "axes[1, 1].set_title('Historgrams of risk_factor')\n",
        "axes[1, 1].set_xlabel('risk_factor')\n",
        "axes[1, 1].set_ylabel('density')\n",
        "\n",
        "# Avg_score\n",
        "axes[2, 0].hist(new_data['avg_score'].values, bins=range(0, 1200000, 10000), alpha=0.5, color='r', label='Score', normed=True)\n",
        "axes[2, 0].legend(loc='upper right')\n",
        "axes[2, 0].set_title('Historgrams of avg_score')\n",
        "axes[2, 0].set_xlabel('avg_score')\n",
        "axes[2, 0].set_ylabel('density')\n",
        "\n",
        "#log scale of avg_score to the large variation\n",
        "axes[2, 1].hist(new_data['avg_score'].values, log=True, bins=range(0, 1200000, 10000), alpha=0.5, color='b', label='log(Score)', normed=True)\n",
        "axes[2, 1].legend(loc='upper right')\n",
        "axes[2, 1].set_title('Historgrams of avg_score')\n",
        "axes[2, 1].set_xlabel('avg_score')\n",
        "axes[2, 1].set_ylabel('density')\n",
        "\n",
        "plt.tight_layout()\n"
      ],
      "execution_count": 17,
      "outputs": [
        {
          "output_type": "display_data",
          "data": {
            "image/png": "[encoded data removed]",
            "text/plain": [
              "<Figure size 720x720 with 6 Axes>"
            ]
          },
          "metadata": {
            "tags": []
          }
        }
      ]
    },
    {
      "cell_type": "markdown",
      "metadata": {
        "id": "Iet8bIabjPxL",
        "colab_type": "text"
      },
      "source": [
        "#### Numerical features and categorical features"
      ]
    },
    {
      "cell_type": "code",
      "metadata": {
        "id": "tJ8TpmgJjk2A",
        "colab_type": "code",
        "outputId": "0353648f-e448-4304-e3a0-fd2a7db0d673",
        "colab": {
          "base_uri": "https://localhost:8080/",
          "height": 532
        }
      },
      "source": [
        "# corrleation of numerical features\n",
        "## Encoding\n",
        "new_data['malicious_ord'] = new_data.malicious.astype(\"category\").cat.codes\n",
        "new_data['classification_ord'] = np.where(new_data['classification'] == 'FP', 1, 0)\n",
        "encoding_col = ['malicious', 'classification']\n",
        "new_data = new_data.drop(encoding_col, axis=1)\n",
        "\n",
        "\n",
        "corr = new_data[[\"score\", \"risk_factor\", \"avg_score\", \n",
        "                \"malicious_ord\", \"classification_ord\"]].corr()\n",
        "\n",
        "sns.heatmap(corr, cmap='YlGnBu')\n",
        "corr"
      ],
      "execution_count": 18,
      "outputs": [
        {
          "output_type": "execute_result",
          "data": {
            "text/html": [
              "<div>\n",
              "<style scoped>\n",
              "    .dataframe tbody tr th:only-of-type {\n",
              "        vertical-align: middle;\n",
              "    }\n",
              "\n",
              "    .dataframe tbody tr th {\n",
              "        vertical-align: top;\n",
              "    }\n",
              "\n",
              "    .dataframe thead th {\n",
              "        text-align: right;\n",
              "    }\n",
              "</style>\n",
              "<table border=\"1\" class=\"dataframe\">\n",
              "  <thead>\n",
              "    <tr style=\"text-align: right;\">\n",
              "      <th></th>\n",
              "      <th>score</th>\n",
              "      <th>risk_factor</th>\n",
              "      <th>avg_score</th>\n",
              "      <th>malicious_ord</th>\n",
              "      <th>classification_ord</th>\n",
              "    </tr>\n",
              "  </thead>\n",
              "  <tbody>\n",
              "    <tr>\n",
              "      <th>score</th>\n",
              "      <td>1.000</td>\n",
              "      <td>0.210</td>\n",
              "      <td>0.893</td>\n",
              "      <td>0.021</td>\n",
              "      <td>-0.027</td>\n",
              "    </tr>\n",
              "    <tr>\n",
              "      <th>risk_factor</th>\n",
              "      <td>0.210</td>\n",
              "      <td>1.000</td>\n",
              "      <td>0.090</td>\n",
              "      <td>0.137</td>\n",
              "      <td>-0.185</td>\n",
              "    </tr>\n",
              "    <tr>\n",
              "      <th>avg_score</th>\n",
              "      <td>0.893</td>\n",
              "      <td>0.090</td>\n",
              "      <td>1.000</td>\n",
              "      <td>0.024</td>\n",
              "      <td>-0.025</td>\n",
              "    </tr>\n",
              "    <tr>\n",
              "      <th>malicious_ord</th>\n",
              "      <td>0.021</td>\n",
              "      <td>0.137</td>\n",
              "      <td>0.024</td>\n",
              "      <td>1.000</td>\n",
              "      <td>-0.973</td>\n",
              "    </tr>\n",
              "    <tr>\n",
              "      <th>classification_ord</th>\n",
              "      <td>-0.027</td>\n",
              "      <td>-0.185</td>\n",
              "      <td>-0.025</td>\n",
              "      <td>-0.973</td>\n",
              "      <td>1.000</td>\n",
              "    </tr>\n",
              "  </tbody>\n",
              "</table>\n",
              "</div>"
            ],
            "text/plain": [
              "                    score  risk_factor  avg_score  malicious_ord  \\\n",
              "score               1.000        0.210      0.893          0.021   \n",
              "risk_factor         0.210        1.000      0.090          0.137   \n",
              "avg_score           0.893        0.090      1.000          0.024   \n",
              "malicious_ord       0.021        0.137      0.024          1.000   \n",
              "classification_ord -0.027       -0.185     -0.025         -0.973   \n",
              "\n",
              "                    classification_ord  \n",
              "score                           -0.027  \n",
              "risk_factor                     -0.185  \n",
              "avg_score                       -0.025  \n",
              "malicious_ord                   -0.973  \n",
              "classification_ord               1.000  "
            ]
          },
          "metadata": {
            "tags": []
          },
          "execution_count": 18
        },
        {
          "output_type": "display_data",
          "data": {
            "image/png": "[encoded data removed]",
            "text/plain": [
              "<Figure size 432x288 with 2 Axes>"
            ]
          },
          "metadata": {
            "tags": []
          }
        }
      ]
    },
    {
      "cell_type": "markdown",
      "metadata": {
        "id": "6zBKUaH2yiUy",
        "colab_type": "text"
      },
      "source": [
        "### HRU & Alert_type"
      ]
    },
    {
      "cell_type": "code",
      "metadata": {
        "id": "vAkDHNMeMUsI",
        "colab_type": "code",
        "colab": {}
      },
      "source": [
        "# plot the number of FP\n",
        "def plot_number(col, rot=-45, num=None):\n",
        "  group_by = pd.DataFrame(new_data.groupby([col])['classification_ord'].sum()).sort_values('classification_ord', ascending=False)\n",
        "  if num:\n",
        "    group_by = group_by[:num-1]\n",
        "    sns.barplot(x=group_by.index, y='classification_ord', data=group_by, palette='Set2')\n",
        "    plt.xticks(rotation=rot)\n",
        "    plt.xlabel(col)\n",
        "    plt.ylabel('The number of FP')\n",
        "    plt.show()\n",
        "  else:\n",
        "    sns.barplot(x=group_by.index, y='classification_ord', data=group_by, palette='Set2')\n",
        "    plt.xticks(rotation=rot)\n",
        "    plt.xlabel(col)\n",
        "    plt.ylabel('The number of FP')\n",
        "    plt.show()\n",
        "\n",
        "# plot the percentage\n",
        "def plot_percentage(col, rot=-45, num=None):\n",
        "  group_by = pd.DataFrame(new_data.groupby([col])['classification_ord'].sum()).sort_index()\n",
        "  counts = pd.DataFrame(new_data[col].value_counts()).sort_index()\n",
        "  total = pd.merge(counts, group_by, on=counts.index)\n",
        "  total['percentage'] = total.apply(lambda x: x['classification_ord'] / x[col], axis=1)\n",
        "  total = total.sort_values('percentage', ascending=False)\n",
        "  if num:\n",
        "    total = total[:num-1]\n",
        "    sns.barplot(x='key_0', y='percentage', data=total, palette='Set2')\n",
        "    plt.xticks(rotation=rot)\n",
        "    plt.xlabel(col)\n",
        "    plt.ylabel('The Percentage of FP')\n",
        "    plt.show()\n",
        "  else:\n",
        "    sns.barplot(x='key_0', y='percentage', data=total, palette='Set2')\n",
        "    plt.xticks(rotation=rot)\n",
        "    plt.xlabel(col)\n",
        "    plt.ylabel('The Percentage of FP')\n",
        "    plt.show()"
      ],
      "execution_count": 0,
      "outputs": []
    },
    {
      "cell_type": "code",
      "metadata": {
        "id": "83PHLrrkM5me",
        "colab_type": "code",
        "colab": {
          "base_uri": "https://localhost:8080/",
          "height": 591
        },
        "outputId": "41447ebd-c6f9-49ee-9aa9-670a36dc7cf3"
      },
      "source": [
        "plot_number('HRU')\n",
        "plot_percentage('HRU')"
      ],
      "execution_count": 20,
      "outputs": [
        {
          "output_type": "display_data",
          "data": {
            "image/png": "[encoded data removed]",
            "text/plain": [
              "<Figure size 432x288 with 1 Axes>"
            ]
          },
          "metadata": {
            "tags": []
          }
        },
        {
          "output_type": "display_data",
          "data": {
            "image/png": "[encoded data removed]",
            "text/plain": [
              "<Figure size 432x288 with 1 Axes>"
            ]
          },
          "metadata": {
            "tags": []
          }
        }
      ]
    },
    {
      "cell_type": "code",
      "metadata": {
        "id": "lsJb5jmdJxM1",
        "colab_type": "code",
        "outputId": "45f9f51d-1147-4a3a-adb1-b6187a231c97",
        "colab": {
          "base_uri": "https://localhost:8080/",
          "height": 643
        }
      },
      "source": [
        "# alert type\n",
        "plot_number('alert_type')\n",
        "plot_percentage('alert_type')"
      ],
      "execution_count": 21,
      "outputs": [
        {
          "output_type": "display_data",
          "data": {
            "image/png": "[encoded data removed]",
            "text/plain": [
              "<Figure size 432x288 with 1 Axes>"
            ]
          },
          "metadata": {
            "tags": []
          }
        },
        {
          "output_type": "display_data",
          "data": {
            "image/png": "[encoded data removed]",
            "text/plain": [
              "<Figure size 432x288 with 1 Axes>"
            ]
          },
          "metadata": {
            "tags": []
          }
        }
      ]
    },
    {
      "cell_type": "markdown",
      "metadata": {
        "id": "zIpwhJLJyZmE",
        "colab_type": "text"
      },
      "source": [
        "### Country & State"
      ]
    },
    {
      "cell_type": "code",
      "metadata": {
        "id": "ftbTUSn7kiRU",
        "colab_type": "code",
        "outputId": "60f4375e-3656-4ef2-e3a7-a674c1891e3c",
        "colab": {
          "base_uri": "https://localhost:8080/",
          "height": 567
        }
      },
      "source": [
        "plot_number('COUNTRY_CODE')\n",
        "plot_percentage('COUNTRY_CODE')\n"
      ],
      "execution_count": 22,
      "outputs": [
        {
          "output_type": "display_data",
          "data": {
            "image/png": "[encoded data removed]",
            "text/plain": [
              "<Figure size 432x288 with 1 Axes>"
            ]
          },
          "metadata": {
            "tags": []
          }
        },
        {
          "output_type": "display_data",
          "data": {
            "image/png": "[encoded data removed]",
            "text/plain": [
              "<Figure size 432x288 with 1 Axes>"
            ]
          },
          "metadata": {
            "tags": []
          }
        }
      ]
    },
    {
      "cell_type": "code",
      "metadata": {
        "id": "vL6G66rcWVjR",
        "colab_type": "code",
        "colab": {
          "base_uri": "https://localhost:8080/",
          "height": 721
        },
        "outputId": "d91cbe79-6b85-4570-a780-1c9b1b7aca68"
      },
      "source": [
        "# State\n",
        "plot_number('State_Name', -90, 20)\n",
        "plot_percentage('State_Name', -90, 20)"
      ],
      "execution_count": 23,
      "outputs": [
        {
          "output_type": "display_data",
          "data": {
            "image/png": "[encoded data removed]",
            "text/plain": [
              "<Figure size 432x288 with 1 Axes>"
            ]
          },
          "metadata": {
            "tags": []
          }
        },
        {
          "output_type": "display_data",
          "data": {
            "image/png": "[encoded data removed]",
            "text/plain": [
              "<Figure size 432x288 with 1 Axes>"
            ]
          },
          "metadata": {
            "tags": []
          }
        }
      ]
    },
    {
      "cell_type": "markdown",
      "metadata": {
        "id": "XUeYnY3Dyc9V",
        "colab_type": "text"
      },
      "source": [
        "### Business Segment"
      ]
    },
    {
      "cell_type": "code",
      "metadata": {
        "colab_type": "code",
        "outputId": "170b2f70-63e6-487e-eb9a-0ff55e449d5f",
        "id": "d7zd3RWcLKDq",
        "colab": {
          "base_uri": "https://localhost:8080/",
          "height": 1125
        }
      },
      "source": [
        "plot_number('Business_Segment', -90)\n",
        "plot_percentage('Business_Segment', -90)"
      ],
      "execution_count": 24,
      "outputs": [
        {
          "output_type": "display_data",
          "data": {
            "image/png": "[encoded data removed]",
            "text/plain": [
              "<Figure size 432x288 with 1 Axes>"
            ]
          },
          "metadata": {
            "tags": []
          }
        },
        {
          "output_type": "display_data",
          "data": {
            "image/png": "[encoded data removed]",
            "text/plain": [
              "<Figure size 432x288 with 1 Axes>"
            ]
          },
          "metadata": {
            "tags": []
          }
        }
      ]
    },
    {
      "cell_type": "code",
      "metadata": {
        "id": "8r6Dq9nS-z08",
        "colab_type": "code",
        "colab": {
          "base_uri": "https://localhost:8080/",
          "height": 266
        },
        "outputId": "a989b7d8-4828-4561-f699-b921fb5b1162"
      },
      "source": [
        "group_by_bs = pd.DataFrame(new_data.groupby(['Business_Segment'])['classification_ord'].sum()).sort_index()\n",
        "counts = pd.DataFrame(new_data['Business_Segment'].value_counts()).sort_index()\n",
        "total = pd.merge(counts, group_by_bs, on=counts.index)\n",
        "total['percentage'] = total.apply(lambda x: x['classification_ord'] / x['Business_Segment'], axis=1)\n",
        "total = total.sort_values('percentage', ascending=False)\n",
        "total.loc[total['percentage'] >= 0.5]"
      ],
      "execution_count": 25,
      "outputs": [
        {
          "output_type": "execute_result",
          "data": {
            "text/html": [
              "<div>\n",
              "<style scoped>\n",
              "    .dataframe tbody tr th:only-of-type {\n",
              "        vertical-align: middle;\n",
              "    }\n",
              "\n",
              "    .dataframe tbody tr th {\n",
              "        vertical-align: top;\n",
              "    }\n",
              "\n",
              "    .dataframe thead th {\n",
              "        text-align: right;\n",
              "    }\n",
              "</style>\n",
              "<table border=\"1\" class=\"dataframe\">\n",
              "  <thead>\n",
              "    <tr style=\"text-align: right;\">\n",
              "      <th></th>\n",
              "      <th>key_0</th>\n",
              "      <th>Business_Segment</th>\n",
              "      <th>classification_ord</th>\n",
              "      <th>percentage</th>\n",
              "    </tr>\n",
              "  </thead>\n",
              "  <tbody>\n",
              "    <tr>\n",
              "      <th>0</th>\n",
              "      <td>Aviation</td>\n",
              "      <td>4</td>\n",
              "      <td>4</td>\n",
              "      <td>1.000</td>\n",
              "    </tr>\n",
              "    <tr>\n",
              "      <th>6</th>\n",
              "      <td>Aviation China</td>\n",
              "      <td>8</td>\n",
              "      <td>8</td>\n",
              "      <td>1.000</td>\n",
              "    </tr>\n",
              "    <tr>\n",
              "      <th>10</th>\n",
              "      <td>Aviation Digital League</td>\n",
              "      <td>2</td>\n",
              "      <td>2</td>\n",
              "      <td>1.000</td>\n",
              "    </tr>\n",
              "    <tr>\n",
              "      <th>5</th>\n",
              "      <td>Aviation Business &amp; General Aviation &amp; Integra...</td>\n",
              "      <td>19342</td>\n",
              "      <td>18388</td>\n",
              "      <td>0.951</td>\n",
              "    </tr>\n",
              "    <tr>\n",
              "      <th>11</th>\n",
              "      <td>Aviation Engineering</td>\n",
              "      <td>45777</td>\n",
              "      <td>33814</td>\n",
              "      <td>0.739</td>\n",
              "    </tr>\n",
              "    <tr>\n",
              "      <th>8</th>\n",
              "      <td>Aviation Communications &amp; GE Advantage</td>\n",
              "      <td>12</td>\n",
              "      <td>8</td>\n",
              "      <td>0.667</td>\n",
              "    </tr>\n",
              "    <tr>\n",
              "      <th>14</th>\n",
              "      <td>Aviation Human Resources</td>\n",
              "      <td>81</td>\n",
              "      <td>48</td>\n",
              "      <td>0.593</td>\n",
              "    </tr>\n",
              "  </tbody>\n",
              "</table>\n",
              "</div>"
            ],
            "text/plain": [
              "                                                key_0  Business_Segment  \\\n",
              "0                                            Aviation                 4   \n",
              "6                                      Aviation China                 8   \n",
              "10                            Aviation Digital League                 2   \n",
              "5   Aviation Business & General Aviation & Integra...             19342   \n",
              "11                               Aviation Engineering             45777   \n",
              "8              Aviation Communications & GE Advantage                12   \n",
              "14                           Aviation Human Resources                81   \n",
              "\n",
              "    classification_ord  percentage  \n",
              "0                    4       1.000  \n",
              "6                    8       1.000  \n",
              "10                   2       1.000  \n",
              "5                18388       0.951  \n",
              "11               33814       0.739  \n",
              "8                    8       0.667  \n",
              "14                  48       0.593  "
            ]
          },
          "metadata": {
            "tags": []
          },
          "execution_count": 25
        }
      ]
    },
    {
      "cell_type": "markdown",
      "metadata": {
        "id": "Z3wTlJbcy_Oz",
        "colab_type": "text"
      },
      "source": [
        "### Function_group & Career_band"
      ]
    },
    {
      "cell_type": "code",
      "metadata": {
        "id": "STAtR5RTy-QK",
        "colab_type": "code",
        "colab": {
          "base_uri": "https://localhost:8080/",
          "height": 629
        },
        "outputId": "22c2fa05-07b0-431d-a816-7d6bb010a2d3"
      },
      "source": [
        "plot_number('Function_Group')\n",
        "plot_percentage('Function_Group')"
      ],
      "execution_count": 26,
      "outputs": [
        {
          "output_type": "display_data",
          "data": {
            "image/png": "[encoded data removed]",
            "text/plain": [
              "<Figure size 432x288 with 1 Axes>"
            ]
          },
          "metadata": {
            "tags": []
          }
        },
        {
          "output_type": "display_data",
          "data": {
            "image/png": "[encoded data removed]",
            "text/plain": [
              "<Figure size 432x288 with 1 Axes>"
            ]
          },
          "metadata": {
            "tags": []
          }
        }
      ]
    },
    {
      "cell_type": "code",
      "metadata": {
        "id": "to1kg3-LPE10",
        "colab_type": "code",
        "colab": {
          "base_uri": "https://localhost:8080/",
          "height": 605
        },
        "outputId": "4401248b-efe1-4486-c372-57b26ac2ded0"
      },
      "source": [
        "plot_number('Career_Band')\n",
        "plot_percentage('Career_Band')"
      ],
      "execution_count": 27,
      "outputs": [
        {
          "output_type": "display_data",
          "data": {
            "image/png": "[encoded data removed]",
            "text/plain": [
              "<Figure size 432x288 with 1 Axes>"
            ]
          },
          "metadata": {
            "tags": []
          }
        },
        {
          "output_type": "display_data",
          "data": {
            "image/png": "[encoded data removed]",
            "text/plain": [
              "<Figure size 432x288 with 1 Axes>"
            ]
          },
          "metadata": {
            "tags": []
          }
        }
      ]
    },
    {
      "cell_type": "markdown",
      "metadata": {
        "id": "Q3gHPR_mbX89",
        "colab_type": "text"
      },
      "source": [
        "HB = Hourly Band\n",
        "\n",
        "APB = Associate Professional Band\n",
        "\n",
        "PB = Professional Band\n",
        "\n",
        "LPB = Lead Professional Band\n",
        "\n",
        "SPB = Senior Professional Band\n",
        "\n",
        "EB = Executive Band\n",
        "\n",
        "Salary differs so as benififits according to your band.\n",
        "\n",
        "GE offers good salary packages and benefits."
      ]
    },
    {
      "cell_type": "markdown",
      "metadata": {
        "id": "RYx2RYPiPNuo",
        "colab_type": "text"
      },
      "source": [
        "### Employee_id"
      ]
    },
    {
      "cell_type": "code",
      "metadata": {
        "id": "ZTuHMXapPNPV",
        "colab_type": "code",
        "colab": {
          "base_uri": "https://localhost:8080/",
          "height": 343
        },
        "outputId": "526c785e-3c63-4741-ef17-11398160a69b"
      },
      "source": [
        "plot_number('employee_id', -90, 10)"
      ],
      "execution_count": 28,
      "outputs": [
        {
          "output_type": "display_data",
          "data": {
            "image/png": "[encoded data removed]",
            "text/plain": [
              "<Figure size 432x288 with 1 Axes>"
            ]
          },
          "metadata": {
            "tags": []
          }
        }
      ]
    },
    {
      "cell_type": "markdown",
      "metadata": {
        "id": "IIAUYQGVuCc5",
        "colab_type": "text"
      },
      "source": [
        "# Part 2: Feature Preprocessing"
      ]
    },
    {
      "cell_type": "code",
      "metadata": {
        "id": "vyQSJKD4zeQM",
        "colab_type": "code",
        "colab": {
          "base_uri": "https://localhost:8080/",
          "height": 374
        },
        "outputId": "286c8f63-f6bc-4366-e8ee-0a3f3beb1267"
      },
      "source": [
        "new_data.dtypes"
      ],
      "execution_count": 29,
      "outputs": [
        {
          "output_type": "execute_result",
          "data": {
            "text/plain": [
              "alert_escalation_date     object\n",
              "alert_id_fk                int64\n",
              "insert_date               object\n",
              "score                      int64\n",
              "status                    object\n",
              "resolution                object\n",
              "owner_name                object\n",
              "employee_id                int64\n",
              "risk_factor              float64\n",
              "avg_score                float64\n",
              "HRU                       object\n",
              "indicator_pairs           object\n",
              "alert_type                object\n",
              "State_Name                object\n",
              "COUNTRY_CODE              object\n",
              "Business_Segment          object\n",
              "Function_Group            object\n",
              "Career_Band               object\n",
              "malicious_ord               int8\n",
              "classification_ord         int64\n",
              "dtype: object"
            ]
          },
          "metadata": {
            "tags": []
          },
          "execution_count": 29
        }
      ]
    },
    {
      "cell_type": "code",
      "metadata": {
        "id": "B7YBEWJXoUjK",
        "colab_type": "code",
        "colab": {}
      },
      "source": [
        "# Drop some useless columns\n",
        "to_drop = ['alert_escalation_date', 'alert_id_fk', 'insert_date',\n",
        "           'status', 'resolution', 'owner_name', 'avg_score',\n",
        "]\n",
        "my_data_prep = new_data.drop(to_drop, axis=1)"
      ],
      "execution_count": 0,
      "outputs": []
    },
    {
      "cell_type": "code",
      "metadata": {
        "id": "UP_OxdzXECXg",
        "colab_type": "code",
        "outputId": "ee1b13af-1d54-45cf-a37a-4924f0991383",
        "colab": {
          "base_uri": "https://localhost:8080/",
          "height": 255
        }
      },
      "source": [
        "my_data_prep.dtypes"
      ],
      "execution_count": 31,
      "outputs": [
        {
          "output_type": "execute_result",
          "data": {
            "text/plain": [
              "score                   int64\n",
              "employee_id             int64\n",
              "risk_factor           float64\n",
              "HRU                    object\n",
              "indicator_pairs        object\n",
              "alert_type             object\n",
              "State_Name             object\n",
              "COUNTRY_CODE           object\n",
              "Business_Segment       object\n",
              "Function_Group         object\n",
              "Career_Band            object\n",
              "malicious_ord            int8\n",
              "classification_ord      int64\n",
              "dtype: object"
            ]
          },
          "metadata": {
            "tags": []
          },
          "execution_count": 31
        }
      ]
    },
    {
      "cell_type": "code",
      "metadata": {
        "id": "cISO_tU6gdGd",
        "colab_type": "code",
        "colab": {}
      },
      "source": [
        "# Covert indiactor_pairs into dummy variables\n",
        "indicators = df_indicator.unique().tolist()\n",
        "d_indicators = pd.DataFrame()\n",
        "for ind in indicators:\n",
        "  ind_list = []\n",
        "  for i in range(my_data_prep.shape[0]):\n",
        "    if ind in my_data_prep['indicator_pairs'].iloc[i]:\n",
        "      ind_list.append(1)\n",
        "    else:\n",
        "      ind_list.append(0)\n",
        "  d_indicators[ind] = pd.Series(ind_list).values\n"
      ],
      "execution_count": 0,
      "outputs": []
    },
    {
      "cell_type": "code",
      "metadata": {
        "id": "C7eq5RBzus4e",
        "colab_type": "code",
        "colab": {}
      },
      "source": [
        "new_data = my_data_prep.drop(['indicator_pairs'], axis=1)\n",
        "X = new_data.drop(\"classification_ord\", axis=1)\n",
        "y = new_data['classification_ord']"
      ],
      "execution_count": 0,
      "outputs": []
    },
    {
      "cell_type": "code",
      "metadata": {
        "id": "2ZXJT1FlDRvh",
        "colab_type": "code",
        "colab": {}
      },
      "source": [
        "# scaling and encoding\n",
        "from sklearn.compose import make_column_transformer, ColumnTransformer\n",
        "from sklearn.preprocessing import OneHotEncoder, StandardScaler\n",
        "\n",
        "categorical = X.dtypes == object\n",
        "numeric = ['score']\n",
        "ct = make_column_transformer((OneHotEncoder(), categorical),\n",
        "                             (StandardScaler(), numeric))\n"
      ],
      "execution_count": 0,
      "outputs": []
    },
    {
      "cell_type": "code",
      "metadata": {
        "id": "pER2DV_0rE89",
        "colab_type": "code",
        "colab": {}
      },
      "source": [
        "X = pd.DataFrame(ct.fit_transform(X).toarray())"
      ],
      "execution_count": 0,
      "outputs": []
    },
    {
      "cell_type": "code",
      "metadata": {
        "id": "IfJNsZ-P0qcq",
        "colab_type": "code",
        "colab": {}
      },
      "source": [
        "X = pd.concat([X, d_indicators], axis = 1)"
      ],
      "execution_count": 0,
      "outputs": []
    },
    {
      "cell_type": "code",
      "metadata": {
        "id": "aD3QE23K0P5N",
        "colab_type": "code",
        "outputId": "83077b38-a87f-4390-dba8-8f3b74bd3276",
        "colab": {
          "base_uri": "https://localhost:8080/",
          "height": 34
        }
      },
      "source": [
        "print(\"Dataset size: %d  number of features: %d  number of classes: %d\"\n",
        "      % (X.shape[0], X.shape[1], len(np.unique(y))))"
      ],
      "execution_count": 37,
      "outputs": [
        {
          "output_type": "stream",
          "text": [
            "Dataset size: 99463  number of features: 240  number of classes: 2\n"
          ],
          "name": "stdout"
        }
      ]
    },
    {
      "cell_type": "markdown",
      "metadata": {
        "id": "O-WmOh2VFWZ0",
        "colab_type": "text"
      },
      "source": [
        "# Part 3: Model Training and Result Evaluation"
      ]
    },
    {
      "cell_type": "markdown",
      "metadata": {
        "id": "wzl1GgqZFeYx",
        "colab_type": "text"
      },
      "source": [
        "### Part 3.1: Split dataset"
      ]
    },
    {
      "cell_type": "code",
      "metadata": {
        "id": "5W1GlWASFKKq",
        "colab_type": "code",
        "outputId": "061cc3fc-68f9-402c-d239-8494cb087a93",
        "colab": {
          "base_uri": "https://localhost:8080/",
          "height": 51
        }
      },
      "source": [
        "# Splite data into training and testing\n",
        "from sklearn import model_selection\n",
        "\n",
        "# stratifed sampling\n",
        "X_train, X_test, y_train, y_test = model_selection.train_test_split(X, y, stratify = y)\n",
        "\n",
        "print('training data has %d observation with %d features'% X_train.shape)\n",
        "print('test data has %d observation with %d features'% X_test.shape)"
      ],
      "execution_count": 38,
      "outputs": [
        {
          "output_type": "stream",
          "text": [
            "training data has 74597 observation with 240 features\n",
            "test data has 24866 observation with 240 features\n"
          ],
          "name": "stdout"
        }
      ]
    },
    {
      "cell_type": "markdown",
      "metadata": {
        "id": "QtBIcZJxHwXB",
        "colab_type": "text"
      },
      "source": [
        "### Part 3.2: Model Training and Selection"
      ]
    },
    {
      "cell_type": "code",
      "metadata": {
        "id": "7o1whTHTHcTG",
        "colab_type": "code",
        "colab": {}
      },
      "source": [
        "# build models\n",
        "from sklearn.ensemble import RandomForestClassifier \n",
        "from sklearn.linear_model import LogisticRegression\n",
        "\n",
        "# Logistic Regression\n",
        "classifier_logistic = LogisticRegression()\n",
        "\n",
        "# Random Forest\n",
        "classifier_RF = RandomForestClassifier()"
      ],
      "execution_count": 0,
      "outputs": []
    },
    {
      "cell_type": "markdown",
      "metadata": {
        "id": "yQqn_qXBN35k",
        "colab_type": "text"
      },
      "source": [
        "### Part 3.3: Use Grid Search to Find Optimal Hyperparameters"
      ]
    },
    {
      "cell_type": "code",
      "metadata": {
        "id": "Mnz__mi2Nsc8",
        "colab_type": "code",
        "colab": {}
      },
      "source": [
        "from sklearn.model_selection import GridSearchCV\n",
        "\n",
        "# helper function for printing out grid search results \n",
        "def print_grid_search_metrics(gs):\n",
        "    print (\"Best score: %0.3f\" % gs.best_score_)\n",
        "    print (\"Best parameters set:\")\n",
        "    best_parameters = gs.best_params_\n",
        "    for param_name in sorted(parameters.keys()):\n",
        "        print(\"\\t%s: %r\" % (param_name, best_parameters[param_name]))"
      ],
      "execution_count": 0,
      "outputs": []
    },
    {
      "cell_type": "markdown",
      "metadata": {
        "id": "t09ZtByJN-pQ",
        "colab_type": "text"
      },
      "source": [
        "#### Part 3.3.1: Find Optimal Hyperparameters - LogisticRegression"
      ]
    },
    {
      "cell_type": "code",
      "metadata": {
        "id": "R2X8Av2sN8Y4",
        "colab_type": "code",
        "outputId": "eeccb534-5bc9-480c-a40e-7bb2b906f768",
        "colab": {
          "base_uri": "https://localhost:8080/",
          "height": 238
        }
      },
      "source": [
        "# Possible hyperparamter options for Logistic Regression Regularization\n",
        "# Penalty is choosed from L1 or L2\n",
        "# C is the lambda value(weight) for L1 and L2\n",
        "parameters = {\n",
        "    'penalty':('l1', 'l2'), \n",
        "    'C':(1, 5, 10)\n",
        "}\n",
        "Grid_LR = GridSearchCV(LogisticRegression(),parameters, cv=5)\n",
        "Grid_LR.fit(X_train, y_train)"
      ],
      "execution_count": 41,
      "outputs": [
        {
          "output_type": "execute_result",
          "data": {
            "text/plain": [
              "GridSearchCV(cv=5, error_score='raise-deprecating',\n",
              "             estimator=LogisticRegression(C=1.0, class_weight=None, dual=False,\n",
              "                                          fit_intercept=True,\n",
              "                                          intercept_scaling=1, l1_ratio=None,\n",
              "                                          max_iter=100, multi_class='warn',\n",
              "                                          n_jobs=None, penalty='l2',\n",
              "                                          random_state=None, solver='warn',\n",
              "                                          tol=0.0001, verbose=0,\n",
              "                                          warm_start=False),\n",
              "             iid='warn', n_jobs=None,\n",
              "             param_grid={'C': (1, 5, 10), 'penalty': ('l1', 'l2')},\n",
              "             pre_dispatch='2*n_jobs', refit=True, return_train_score=False,\n",
              "             scoring=None, verbose=0)"
            ]
          },
          "metadata": {
            "tags": []
          },
          "execution_count": 41
        }
      ]
    },
    {
      "cell_type": "code",
      "metadata": {
        "id": "5pDVA93xSz4s",
        "colab_type": "code",
        "outputId": "bfc88904-538a-4d2e-fea5-67804bd6ee3a",
        "colab": {
          "base_uri": "https://localhost:8080/",
          "height": 85
        }
      },
      "source": [
        "# the best hyperparameter combination\n",
        "print_grid_search_metrics(Grid_LR)"
      ],
      "execution_count": 42,
      "outputs": [
        {
          "output_type": "stream",
          "text": [
            "Best score: 0.871\n",
            "Best parameters set:\n",
            "\tC: 10\n",
            "\tpenalty: 'l1'\n"
          ],
          "name": "stdout"
        }
      ]
    },
    {
      "cell_type": "code",
      "metadata": {
        "id": "Y_oSi_YMS3cz",
        "colab_type": "code",
        "colab": {}
      },
      "source": [
        "# best model\n",
        "best_LR_model = Grid_LR.best_estimator_"
      ],
      "execution_count": 0,
      "outputs": []
    },
    {
      "cell_type": "markdown",
      "metadata": {
        "id": "dHgkBjnJST7p",
        "colab_type": "text"
      },
      "source": [
        "#### Part 3.3.2: Find Optimal Hyperparameters: Random Forest"
      ]
    },
    {
      "cell_type": "code",
      "metadata": {
        "id": "VKaQ0E3iSRGy",
        "colab_type": "code",
        "outputId": "f553f213-cfcb-46b4-e53b-c3c2cbdf3cf9",
        "colab": {
          "base_uri": "https://localhost:8080/",
          "height": 306
        }
      },
      "source": [
        "# Possible hyperparamter options for Random Forest\n",
        "# Choose the number of trees\n",
        "parameters = {\n",
        "    'n_estimators' : [40,60,80]\n",
        "}\n",
        "Grid_RF = GridSearchCV(RandomForestClassifier(),parameters, cv=5)\n",
        "Grid_RF.fit(X_train, y_train)"
      ],
      "execution_count": 44,
      "outputs": [
        {
          "output_type": "execute_result",
          "data": {
            "text/plain": [
              "GridSearchCV(cv=5, error_score='raise-deprecating',\n",
              "             estimator=RandomForestClassifier(bootstrap=True, class_weight=None,\n",
              "                                              criterion='gini', max_depth=None,\n",
              "                                              max_features='auto',\n",
              "                                              max_leaf_nodes=None,\n",
              "                                              min_impurity_decrease=0.0,\n",
              "                                              min_impurity_split=None,\n",
              "                                              min_samples_leaf=1,\n",
              "                                              min_samples_split=2,\n",
              "                                              min_weight_fraction_leaf=0.0,\n",
              "                                              n_estimators='warn', n_jobs=None,\n",
              "                                              oob_score=False,\n",
              "                                              random_state=None, verbose=0,\n",
              "                                              warm_start=False),\n",
              "             iid='warn', n_jobs=None, param_grid={'n_estimators': [40, 60, 80]},\n",
              "             pre_dispatch='2*n_jobs', refit=True, return_train_score=False,\n",
              "             scoring=None, verbose=0)"
            ]
          },
          "metadata": {
            "tags": []
          },
          "execution_count": 44
        }
      ]
    },
    {
      "cell_type": "code",
      "metadata": {
        "id": "JQhn_JfxSWV2",
        "colab_type": "code",
        "outputId": "5f43ed76-71aa-40b2-a551-80e94ed1bbf6",
        "colab": {
          "base_uri": "https://localhost:8080/",
          "height": 68
        }
      },
      "source": [
        "# best number of tress\n",
        "print_grid_search_metrics(Grid_RF)"
      ],
      "execution_count": 45,
      "outputs": [
        {
          "output_type": "stream",
          "text": [
            "Best score: 0.895\n",
            "Best parameters set:\n",
            "\tn_estimators: 60\n"
          ],
          "name": "stdout"
        }
      ]
    },
    {
      "cell_type": "code",
      "metadata": {
        "id": "jueMzqyTvzqq",
        "colab_type": "code",
        "colab": {}
      },
      "source": [
        "# best random forest\n",
        "best_RF_model = Grid_RF.best_estimator_"
      ],
      "execution_count": 0,
      "outputs": []
    },
    {
      "cell_type": "markdown",
      "metadata": {
        "id": "qpByrP07xAV5",
        "colab_type": "text"
      },
      "source": [
        "### Part 3.4: Model Evaluation - Confusion Matrix (Precision, Recall, Accuracy)\n",
        "\n",
        "class of interest as positive\n",
        "\n",
        "TP: correctly labeled real churn\n",
        "\n",
        "Precision(PPV, positive predictive value): tp / (tp + fp);\n",
        "Total number of true predictive churn divided by the total number of predictive churn;\n",
        "High Precision means low fp, not many return users were predicted as churn users. \n",
        "\n",
        "\n",
        "Recall(sensitivity, hit rate, true positive rate): tp / (tp + fn)\n",
        "Predict most postive or churn user correctly. High recall means low fn, not many churn users were predicted as return users."
      ]
    },
    {
      "cell_type": "code",
      "metadata": {
        "id": "CtVENtfMxA7i",
        "colab_type": "code",
        "colab": {}
      },
      "source": [
        "from sklearn.metrics import confusion_matrix\n",
        "from sklearn.metrics import classification_report\n",
        "from sklearn.metrics import precision_score\n",
        "from sklearn.metrics import recall_score\n",
        "\n",
        "# calculate accuracy, precision and recall\n",
        "def cal_evaluation(classifier, cm):\n",
        "    tn = cm[0][0]\n",
        "    fp = cm[0][1]\n",
        "    fn = cm[1][0]\n",
        "    tp = cm[1][1]\n",
        "    accuracy  = (tp + tn) / (tp + fp + fn + tn + 0.0)\n",
        "    precision = tp / (tp + fp + 0.0)\n",
        "    recall = tp / (tp + fn + 0.0)\n",
        "    print (classifier)\n",
        "    print (\"Accuracy is: %0.3f\" % accuracy)\n",
        "    print (\"precision is: %0.3f\" % precision)\n",
        "    print (\"recall is: %0.3f\" % recall)\n",
        "\n",
        "# print out confusion matrices\n",
        "def draw_confusion_matrices(confusion_matricies):\n",
        "    class_names = ['FP','TP']\n",
        "    for cm in confusion_matrices:\n",
        "        classifier, cm = cm[0], cm[1]\n",
        "        cal_evaluation(classifier, cm)\n",
        "        fig = plt.figure()\n",
        "        ax = fig.add_subplot(111)\n",
        "        cax = ax.matshow(cm, interpolation='nearest',cmap=plt.get_cmap('Blues'))\n",
        "        plt.title('Confusion matrix for %s \\n' % classifier )\n",
        "        fig.colorbar(cax)\n",
        "        ax.set_xticklabels([''] + class_names)\n",
        "        ax.set_yticklabels([''] + class_names)\n",
        "        plt.xlabel('Predicted')\n",
        "        plt.ylabel('True')\n",
        "        plt.show()"
      ],
      "execution_count": 0,
      "outputs": []
    },
    {
      "cell_type": "code",
      "metadata": {
        "id": "br04uXnSxDTC",
        "colab_type": "code",
        "outputId": "dc30bfde-33cc-410f-ce58-83b9beebfe1e",
        "colab": {
          "base_uri": "https://localhost:8080/",
          "height": 727
        }
      },
      "source": [
        "# Confusion matrix, accuracy, precison and recall for random forest and logistic regression\n",
        "confusion_matrices = [\n",
        "    (\"Random Forest\", confusion_matrix(y_test,best_RF_model.predict(X_test))),\n",
        "    (\"Logistic Regression\", confusion_matrix(y_test,best_LR_model.predict(X_test))),\n",
        "]\n",
        "\n",
        "draw_confusion_matrices(confusion_matrices)"
      ],
      "execution_count": 48,
      "outputs": [
        {
          "output_type": "stream",
          "text": [
            "Random Forest\n",
            "Accuracy is: 0.897\n",
            "precision is: 0.875\n",
            "recall is: 0.959\n"
          ],
          "name": "stdout"
        },
        {
          "output_type": "display_data",
          "data": {
            "image/png": "[encoded data removed]",
            "text/plain": [
              "<Figure size 432x288 with 2 Axes>"
            ]
          },
          "metadata": {
            "tags": []
          }
        },
        {
          "output_type": "stream",
          "text": [
            "Logistic Regression\n",
            "Accuracy is: 0.872\n",
            "precision is: 0.867\n",
            "recall is: 0.922\n"
          ],
          "name": "stdout"
        },
        {
          "output_type": "display_data",
          "data": {
            "image/png": "[encoded data removed]",
            "text/plain": [
              "<Figure size 432x288 with 2 Axes>"
            ]
          },
          "metadata": {
            "tags": []
          }
        }
      ]
    },
    {
      "cell_type": "markdown",
      "metadata": {
        "id": "MsFdRj8Yx_Il",
        "colab_type": "text"
      },
      "source": [
        "# Part 4: Feature Selection"
      ]
    },
    {
      "cell_type": "markdown",
      "metadata": {
        "id": "2a2yRqDNyCho",
        "colab_type": "text"
      },
      "source": [
        "### Part 4.1:  Logistic Regression Model - Feature Selection Discussion \n",
        "\n"
      ]
    },
    {
      "cell_type": "code",
      "metadata": {
        "id": "g7SrFvf8x-rM",
        "colab_type": "code",
        "outputId": "e17a7e24-b897-48ef-c658-05be7b0d19ba",
        "colab": {
          "base_uri": "https://localhost:8080/",
          "height": 238
        }
      },
      "source": [
        "# add L1 regularization to logistic regression\n",
        "# check the coef for feature selection\n",
        "LRmodel_l1 = LogisticRegression(penalty=\"l1\", C = 0.1)\n",
        "LRmodel_l1.fit(X, y)\n",
        "LRmodel_l1.coef_[0]\n",
        "print (\"Logistic Regression (L1) Coefficients\")\n",
        "for k,v in sorted(zip(map(lambda x: round(x, 4), LRmodel_l1.coef_[0]), \\\n",
        "                      my_data_prep.columns[:-1]), key=lambda k_v:(-abs(k_v[0]),k_v[1])):\n",
        "    print (v + \": \" + str(k))"
      ],
      "execution_count": 49,
      "outputs": [
        {
          "output_type": "stream",
          "text": [
            "Logistic Regression (L1) Coefficients\n",
            "Career_Band: -2.4069\n",
            "HRU: 1.2585\n",
            "malicious_ord: -0.6518\n",
            "Business_Segment: -0.5288\n",
            "employee_id: -0.3662\n",
            "State_Name: 0.2228\n",
            "COUNTRY_CODE: 0.0\n",
            "Function_Group: 0.0\n",
            "alert_type: 0.0\n",
            "indicator_pairs: 0.0\n",
            "risk_factor: 0.0\n",
            "score: 0.0\n"
          ],
          "name": "stdout"
        }
      ]
    },
    {
      "cell_type": "code",
      "metadata": {
        "id": "_Tht5mruxFyq",
        "colab_type": "code",
        "outputId": "43499140-2863-448f-e57f-2362f90f1a40",
        "colab": {
          "base_uri": "https://localhost:8080/",
          "height": 238
        }
      },
      "source": [
        "# add L2 regularization to logistic regression\n",
        "# check the coef for feature selection\n",
        "LRmodel_l2 = LogisticRegression(penalty=\"l2\", C = 5)\n",
        "LRmodel_l2.fit(X, y)\n",
        "LRmodel_l2.coef_[0]\n",
        "print (\"Logistic Regression (L2) Coefficients\")\n",
        "for k,v in sorted(zip(map(lambda x: round(x, 4), LRmodel_l2.coef_[0]), \\\n",
        "                      my_data_prep.columns[:-1]), key=lambda k_v:(-abs(k_v[0]),k_v[1])):\n",
        "    print (v + \": \" + str(k))"
      ],
      "execution_count": 50,
      "outputs": [
        {
          "output_type": "stream",
          "text": [
            "Logistic Regression (L2) Coefficients\n",
            "Career_Band: -4.5406\n",
            "COUNTRY_CODE: 4.2131\n",
            "score: -2.0128\n",
            "Function_Group: -1.8758\n",
            "HRU: 1.4994\n",
            "alert_type: 1.4621\n",
            "Business_Segment: -1.4035\n",
            "State_Name: 1.0212\n",
            "risk_factor: 0.8558\n",
            "malicious_ord: -0.3016\n",
            "indicator_pairs: 0.1484\n",
            "employee_id: -0.049\n"
          ],
          "name": "stdout"
        }
      ]
    },
    {
      "cell_type": "markdown",
      "metadata": {
        "id": "L6t46yWZzHAz",
        "colab_type": "text"
      },
      "source": [
        "Part 4.2: Random Forest Model - Feature Importance Discussion"
      ]
    },
    {
      "cell_type": "code",
      "metadata": {
        "id": "QtAVpmFezCjE",
        "colab_type": "code",
        "outputId": "50f92770-9e4c-4b99-bb44-3db58c84e94c",
        "colab": {
          "base_uri": "https://localhost:8080/",
          "height": 238
        }
      },
      "source": [
        "# check feature importance of random forest for feature selection\n",
        "forest = RandomForestClassifier()\n",
        "forest.fit(X, y)\n",
        "\n",
        "importances = forest.feature_importances_\n",
        "\n",
        "importance_dict = {}\n",
        "# Print the feature ranking\n",
        "print(\"Feature importance ranking by Random Forest Model:\")\n",
        "for k,v in sorted(zip(map(lambda x: round(x, 4), importances), my_data_prep.columns[:-1]), reverse=True):\n",
        "    print (v + \": \" + str(k))\n",
        "    importance_dict[v] = k*10"
      ],
      "execution_count": 51,
      "outputs": [
        {
          "output_type": "stream",
          "text": [
            "Feature importance ranking by Random Forest Model:\n",
            "employee_id: 0.0383\n",
            "malicious_ord: 0.0292\n",
            "HRU: 0.028\n",
            "State_Name: 0.0051\n",
            "risk_factor: 0.0043\n",
            "Career_Band: 0.0015\n",
            "Business_Segment: 0.0005\n",
            "indicator_pairs: 0.0003\n",
            "alert_type: 0.0001\n",
            "score: 0.0\n",
            "Function_Group: 0.0\n",
            "COUNTRY_CODE: 0.0\n"
          ],
          "name": "stdout"
        }
      ]
    },
    {
      "cell_type": "code",
      "metadata": {
        "id": "QYgkUs9WTu6T",
        "colab_type": "code",
        "colab": {
          "base_uri": "https://localhost:8080/",
          "height": 312
        },
        "outputId": "4cb64f7f-ee75-41cd-9b8c-807f60e7409d"
      },
      "source": [
        "df = pd.DataFrame.from_dict(importance_dict, orient='index', columns=['Importance'])\n",
        "sns.barplot(x='Importance', y=df.index, data=df,\n",
        "             palette=\"Blues_d\")\n",
        "plt.title('Feature Importance of RF')"
      ],
      "execution_count": 52,
      "outputs": [
        {
          "output_type": "execute_result",
          "data": {
            "text/plain": [
              "Text(0.5, 1.0, 'Feature Importance of RF')"
            ]
          },
          "metadata": {
            "tags": []
          },
          "execution_count": 52
        },
        {
          "output_type": "display_data",
          "data": {
            "image/png": "[encoded data removed]",
            "text/plain": [
              "<Figure size 432x288 with 1 Axes>"
            ]
          },
          "metadata": {
            "tags": []
          }
        }
      ]
    },
    {
      "cell_type": "code",
      "metadata": {
        "id": "bFHj1gWjHsvH",
        "colab_type": "code",
        "colab": {}
      },
      "source": [
        ""
      ],
      "execution_count": 0,
      "outputs": []
    }
  ]
}